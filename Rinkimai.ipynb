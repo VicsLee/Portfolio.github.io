{
  "nbformat": 4,
  "nbformat_minor": 0,
  "metadata": {
    "colab": {
      "provenance": [],
      "authorship_tag": "ABX9TyNdQE8kmIsCPdqY377A58Hq",
      "include_colab_link": true
    },
    "kernelspec": {
      "name": "python3",
      "display_name": "Python 3"
    },
    "language_info": {
      "name": "python"
    }
  },
  "cells": [
    {
      "cell_type": "markdown",
      "metadata": {
        "id": "view-in-github",
        "colab_type": "text"
      },
      "source": [
        "<a href=\"https://colab.research.google.com/github/VicsLee/Portfolio.github.io/blob/main/Rinkimai.ipynb\" target=\"_parent\"><img src=\"https://colab.research.google.com/assets/colab-badge.svg\" alt=\"Open In Colab\"/></a>"
      ]
    },
    {
      "cell_type": "markdown",
      "source": [
        "Kad kandidatas būtų išrinkas sugeneravau Python kodą, kuris leidžia nustatyti, ar kandidatas yra tinkamas ir bus išrinkas Lietuvos Respublikos prezidentu."
      ],
      "metadata": {
        "id": "MN3bVf7Wt4c4"
      }
    },
    {
      "cell_type": "code",
      "source": [
        "amzius = int(input(\"Įveskite amžių: \"))\n",
        "pilietybe = input(\"Įveskite pilietybę: \")\n",
        "kandidato_patvirtinimas = input(\"Ar kandidato patvirtinimas yra True arba False: \").lower() == 'true'\n",
        "kandidato_registracija = input(\"Ar kandidato registracija yra True arba False: \").lower() == 'true'\n",
        "rinkimu_apklausa = input(\"Įveskite rinkimų apklausos būklę (Pirmas arba kitas): \").capitalize()\n",
        "\n",
        "salygos = {\n",
        "    'Amžius': amzius,\n",
        "    'Pilietybė': pilietybe,\n",
        "    'KandidatoPatvirtinimas': kandidato_patvirtinimas,\n",
        "    'KandidatoRegistracija': kandidato_registracija,\n",
        "    'RinkimųApklausa': rinkimu_apklausa\n",
        "}\n",
        "\n",
        "if (\n",
        "    salygos['Amžius'] >= 35\n",
        "    and salygos['Pilietybė'] == 'Lietuvos Respublikos pilietis'\n",
        "    and salygos['KandidatoPatvirtinimas']\n",
        "    and salygos['KandidatoRegistracija']\n",
        "    and salygos['RinkimųApklausa'] == 'Pirmas'\n",
        "):\n",
        "    print(\"Kandidatas yra tinkamas pirmajam rinkimų ture ir gali būti išrinktas.\")\n",
        "else:\n",
        "    print(\"Kandidatas netinkamas pirmajam rinkimų ture ir negali būti išrinktas.\")\n"
      ],
      "metadata": {
        "colab": {
          "base_uri": "https://localhost:8080/"
        },
        "id": "IbIZgn172AZS",
        "outputId": "3015f777-ead7-4f46-c234-0ac71cc4900a"
      },
      "execution_count": 1,
      "outputs": [
        {
          "output_type": "stream",
          "name": "stdout",
          "text": [
            "Įveskite amžių: 40\n",
            "Įveskite pilietybę: Lietuvis\n",
            "Ar kandidato patvirtinimas yra True arba False: True\n",
            "Ar kandidato registracija yra True arba False: True\n",
            "Įveskite rinkimų apklausos būklę (Pirmas arba kitas): Pirmas\n",
            "Kandidatas netinkamas pirmajam rinkimų ture ir negali būti išrinktas.\n"
          ]
        }
      ]
    },
    {
      "cell_type": "markdown",
      "source": [
        "Kandidatas gali pasitikrinti ar gali dalyvauti ir ar bus išrinktas į mero postą."
      ],
      "metadata": {
        "id": "cffrkqFvu2pe"
      }
    },
    {
      "cell_type": "code",
      "source": [
        "pilietybe = input(\"Įveskite pilietybę: \")\n",
        "amzius = int(input(\"Įveskite amžių: \"))\n",
        "kandidato_registracija = input(\"Ar kandidato registracija yra True arba False: \").lower() == 'true'\n",
        "rinkimu_apklausa = input(\"Įveskite rinkimų apklausos būklę (Pirmas arba kitas): \").capitalize()\n",
        "balsai_gauti_procentais = float(input(\"Įveskite gautų balsų procentą: \"))\n",
        "\n",
        "salygos = {\n",
        "    'Pilietybė': pilietybe,\n",
        "    'Amžius': amzius,\n",
        "    'KandidatoRegistracija': kandidato_registracija,\n",
        "    'RinkimųApklausa': rinkimu_apklausa,\n",
        "    'BalsaiGautiProcentais': balsai_gauti_procentais\n",
        "}\n",
        "\n",
        "if (\n",
        "    salygos['Pilietybė'] == 'Lietuvos Respublikos pilietis'\n",
        "    and salygos['Amžius'] >= 18\n",
        "    and salygos['KandidatoRegistracija']\n",
        "    and salygos['RinkimųApklausa'] == 'Pirmas'\n",
        "    and salygos['BalsaiGautiProcentais'] > 50\n",
        "):\n",
        "    print(\"Kandidatas yra tinkamas pirmajam rinkimų ture ir gali būti išrinktas.\")\n",
        "else:\n",
        "    print(\"Kandidatas netinkamas pirmajam rinkimų ture ir negali būti išrinktas.\")\n"
      ],
      "metadata": {
        "colab": {
          "base_uri": "https://localhost:8080/",
          "height": 391
        },
        "id": "9klbqvGM2RQh",
        "outputId": "1580c73f-222a-4ea5-e862-bdb26cb478ee"
      },
      "execution_count": 2,
      "outputs": [
        {
          "output_type": "error",
          "ename": "KeyboardInterrupt",
          "evalue": "ignored",
          "traceback": [
            "\u001b[0;31m---------------------------------------------------------------------------\u001b[0m",
            "\u001b[0;31mKeyboardInterrupt\u001b[0m                         Traceback (most recent call last)",
            "\u001b[0;32m<ipython-input-2-a6d98dbcf2da>\u001b[0m in \u001b[0;36m<cell line: 2>\u001b[0;34m()\u001b[0m\n\u001b[1;32m      1\u001b[0m \u001b[0;31m# Leidžiame vartotojui įvesti kriterijus\u001b[0m\u001b[0;34m\u001b[0m\u001b[0;34m\u001b[0m\u001b[0m\n\u001b[0;32m----> 2\u001b[0;31m \u001b[0mpilietybe\u001b[0m \u001b[0;34m=\u001b[0m \u001b[0minput\u001b[0m\u001b[0;34m(\u001b[0m\u001b[0;34m\"Įveskite pilietybę: \"\u001b[0m\u001b[0;34m)\u001b[0m\u001b[0;34m\u001b[0m\u001b[0;34m\u001b[0m\u001b[0m\n\u001b[0m\u001b[1;32m      3\u001b[0m \u001b[0mamzius\u001b[0m \u001b[0;34m=\u001b[0m \u001b[0mint\u001b[0m\u001b[0;34m(\u001b[0m\u001b[0minput\u001b[0m\u001b[0;34m(\u001b[0m\u001b[0;34m\"Įveskite amžių: \"\u001b[0m\u001b[0;34m)\u001b[0m\u001b[0;34m)\u001b[0m\u001b[0;34m\u001b[0m\u001b[0;34m\u001b[0m\u001b[0m\n\u001b[1;32m      4\u001b[0m \u001b[0mkandidato_registracija\u001b[0m \u001b[0;34m=\u001b[0m \u001b[0minput\u001b[0m\u001b[0;34m(\u001b[0m\u001b[0;34m\"Ar kandidato registracija yra True arba False: \"\u001b[0m\u001b[0;34m)\u001b[0m\u001b[0;34m.\u001b[0m\u001b[0mlower\u001b[0m\u001b[0;34m(\u001b[0m\u001b[0;34m)\u001b[0m \u001b[0;34m==\u001b[0m \u001b[0;34m'true'\u001b[0m\u001b[0;34m\u001b[0m\u001b[0;34m\u001b[0m\u001b[0m\n\u001b[1;32m      5\u001b[0m \u001b[0mrinkimu_apklausa\u001b[0m \u001b[0;34m=\u001b[0m \u001b[0minput\u001b[0m\u001b[0;34m(\u001b[0m\u001b[0;34m\"Įveskite rinkimų apklausos būklę (Pirmas arba kitas): \"\u001b[0m\u001b[0;34m)\u001b[0m\u001b[0;34m.\u001b[0m\u001b[0mcapitalize\u001b[0m\u001b[0;34m(\u001b[0m\u001b[0;34m)\u001b[0m\u001b[0;34m\u001b[0m\u001b[0;34m\u001b[0m\u001b[0m\n",
            "\u001b[0;32m/usr/local/lib/python3.10/dist-packages/ipykernel/kernelbase.py\u001b[0m in \u001b[0;36mraw_input\u001b[0;34m(self, prompt)\u001b[0m\n\u001b[1;32m    849\u001b[0m                 \u001b[0;34m\"raw_input was called, but this frontend does not support input requests.\"\u001b[0m\u001b[0;34m\u001b[0m\u001b[0;34m\u001b[0m\u001b[0m\n\u001b[1;32m    850\u001b[0m             )\n\u001b[0;32m--> 851\u001b[0;31m         return self._input_request(str(prompt),\n\u001b[0m\u001b[1;32m    852\u001b[0m             \u001b[0mself\u001b[0m\u001b[0;34m.\u001b[0m\u001b[0m_parent_ident\u001b[0m\u001b[0;34m,\u001b[0m\u001b[0;34m\u001b[0m\u001b[0;34m\u001b[0m\u001b[0m\n\u001b[1;32m    853\u001b[0m             \u001b[0mself\u001b[0m\u001b[0;34m.\u001b[0m\u001b[0m_parent_header\u001b[0m\u001b[0;34m,\u001b[0m\u001b[0;34m\u001b[0m\u001b[0;34m\u001b[0m\u001b[0m\n",
            "\u001b[0;32m/usr/local/lib/python3.10/dist-packages/ipykernel/kernelbase.py\u001b[0m in \u001b[0;36m_input_request\u001b[0;34m(self, prompt, ident, parent, password)\u001b[0m\n\u001b[1;32m    893\u001b[0m             \u001b[0;32mexcept\u001b[0m \u001b[0mKeyboardInterrupt\u001b[0m\u001b[0;34m:\u001b[0m\u001b[0;34m\u001b[0m\u001b[0;34m\u001b[0m\u001b[0m\n\u001b[1;32m    894\u001b[0m                 \u001b[0;31m# re-raise KeyboardInterrupt, to truncate traceback\u001b[0m\u001b[0;34m\u001b[0m\u001b[0;34m\u001b[0m\u001b[0m\n\u001b[0;32m--> 895\u001b[0;31m                 \u001b[0;32mraise\u001b[0m \u001b[0mKeyboardInterrupt\u001b[0m\u001b[0;34m(\u001b[0m\u001b[0;34m\"Interrupted by user\"\u001b[0m\u001b[0;34m)\u001b[0m \u001b[0;32mfrom\u001b[0m \u001b[0;32mNone\u001b[0m\u001b[0;34m\u001b[0m\u001b[0;34m\u001b[0m\u001b[0m\n\u001b[0m\u001b[1;32m    896\u001b[0m             \u001b[0;32mexcept\u001b[0m \u001b[0mException\u001b[0m \u001b[0;32mas\u001b[0m \u001b[0me\u001b[0m\u001b[0;34m:\u001b[0m\u001b[0;34m\u001b[0m\u001b[0;34m\u001b[0m\u001b[0m\n\u001b[1;32m    897\u001b[0m                 \u001b[0mself\u001b[0m\u001b[0;34m.\u001b[0m\u001b[0mlog\u001b[0m\u001b[0;34m.\u001b[0m\u001b[0mwarning\u001b[0m\u001b[0;34m(\u001b[0m\u001b[0;34m\"Invalid Message:\"\u001b[0m\u001b[0;34m,\u001b[0m \u001b[0mexc_info\u001b[0m\u001b[0;34m=\u001b[0m\u001b[0;32mTrue\u001b[0m\u001b[0;34m)\u001b[0m\u001b[0;34m\u001b[0m\u001b[0;34m\u001b[0m\u001b[0m\n",
            "\u001b[0;31mKeyboardInterrupt\u001b[0m: Interrupted by user"
          ]
        }
      ]
    },
    {
      "cell_type": "markdown",
      "source": [
        "Ar kandidatas gali būti išrinktas į seimo nario postą."
      ],
      "metadata": {
        "id": "yhH6_Zyyvrf5"
      }
    },
    {
      "cell_type": "code",
      "source": [
        "pilietybe = input(\"Įveskite pilietybę: \")\n",
        "amzius = int(input(\"Įveskite amžių: \"))\n",
        "kandidato_registracija = input(\"Ar kandidato registracija yra True arba False: \").lower() == 'true'\n",
        "rinkimu_apklausa = input(\"Įveskite rinkimų apklausos būklę (Pirmas arba kitas): \").capitalize()\n",
        "apygardos_dydis = input(\"Įveskite apygardos dydį: \")\n",
        "balsai_gauti_procentais = float(input(\"Įveskite gautų balsų procentą: \"))\n",
        "\n",
        "salygos = {\n",
        "    'Pilietybė': pilietybe,\n",
        "    'Amžius': amzius,\n",
        "    'KandidatoRegistracija': kandidato_registracija,\n",
        "    'RinkimųApklausa': rinkimu_apklausa,\n",
        "    'ApygardosDydis': apygardos_dydis,\n",
        "    'BalsaiGautiProcentais': balsai_gauti_procentais\n",
        "}\n",
        "\n",
        "if (\n",
        "    salygos['Pilietybė'] == 'Lietuvos Respublikos pilietis'\n",
        "    and salygos['Amžius'] >= 25\n",
        "    and salygos['KandidatoRegistracija']\n",
        "    and salygos['RinkimųApklausa'] == 'Pirmas'\n",
        "    and salygos['ApygardosDydis'] == 'Vienmandatė'\n",
        "    and salygos['BalsaiGautiProcentais'] > 50\n",
        "):\n",
        "    print(\"Kandidatas yra tinkamas išrinkimui Seimo nario postą vienmandatėje apygardoje pirmajame rinkimų ture.\")\n",
        "else:\n",
        "    print(\"Kandidatas netinkamas išrinkimui Seimo nario postą vienmandatėje apygardoje pirmajame rinkimų ture.\")\n"
      ],
      "metadata": {
        "id": "Ai7R00ZV27wd"
      },
      "execution_count": null,
      "outputs": []
    },
    {
      "cell_type": "markdown",
      "source": [
        "k onsultacini ame referendum e būtų sėkmingai pritarta\n",
        "referendumui pateikto sprendimo priėmimui;"
      ],
      "metadata": {
        "id": "P2SMR8xiwbRv"
      }
    },
    {
      "cell_type": "code",
      "source": [
        "balsavimo_dalyviai = int(input(\"Įveskite balsavimo dalyvių skaičių: \"))\n",
        "balsavimo_procentas_uz = float(input(\"Įveskite balsavimo procentą už: \"))\n",
        "balsavimo_procentas_pries = float(input(\"Įveskite balsavimo procentą prieš: \"))\n",
        "sprendimo_patvirtinimo_procentas = float(input(\"Įveskite sprendimo patvirtinimo procentą: \"))\n",
        "\n",
        "salygos = {\n",
        "    'BalsavimoDalyviai': balsavimo_dalyviai,\n",
        "    'BalsavimoProcentasUž': balsavimo_procentas_uz,\n",
        "    'BalsavimoProcentasPrieš': balsavimo_procentas_pries,\n",
        "    'SprendimoPatvirtinimoProcentas': sprendimo_patvirtinimo_procentas\n",
        "}\n",
        "\n",
        "if (\n",
        "    salygos['BalsavimoDalyviai'] >= 10000\n",
        "    and salygos['BalsavimoProcentasUž'] >= 60\n",
        "    and salygos['BalsavimoProcentasPrieš'] <= 40\n",
        "    and salygos['SprendimoPatvirtinimoProcentas'] >= 50\n",
        "):\n",
        "    print(\"Konsultaciniam referendumui buvo sėkmingai pritarta referendumui pateikto sprendimo priėmimui.\")\n",
        "else:\n",
        "    print(\"Konsultaciniam referendumui nepavyko sėkmingai pritarti referendumui pateikto sprendimo priėmimui.\")\n"
      ],
      "metadata": {
        "id": "QMuIXf3D6WK1"
      },
      "execution_count": null,
      "outputs": []
    },
    {
      "cell_type": "markdown",
      "source": [
        "privalomajame referendum e būtų sėkmingai pritarta\n",
        "referendumui pateikto sprendimo priėmimui."
      ],
      "metadata": {
        "id": "IOeYWWKNw7Gk"
      }
    },
    {
      "cell_type": "code",
      "source": [
        "referendumo_dalyviai = int(input(\"Įveskite referendumo dalyvių skaičių: \"))\n",
        "balsavimo_procentas_uz = float(input(\"Įveskite balsavimo procentą už: \"))\n",
        "balsavimo_procentas_pries = float(input(\"Įveskite balsavimo procentą prieš: \"))\n",
        "sprendimo_patvirtinimo_procentas = float(input(\"Įveskite sprendimo patvirtinimo procentą: \"))\n",
        "privalomas_dalyvauti = input(\"Ar dalyvauti referendumas yra privalomas (True/False): \").lower() == 'true'\n",
        "referendumo_rusis = input(\"Įveskite referendumo rūšį: \")\n",
        "\n",
        "salygos = {\n",
        "    'ReferendumoDalyviai': referendumo_dalyviai,\n",
        "    'BalsavimoProcentasUž': balsavimo_procentas_uz,\n",
        "    'BalsavimoProcentasPrieš': balsavimo_procentas_pries,\n",
        "    'SprendimoPatvirtinimoProcentas': sprendimo_patvirtinimo_procentas,\n",
        "    'PrivalomasDalyvauti': privalomas_dalyvauti,\n",
        "    'ReferendumoRūšis': referendumo_rusis\n",
        "}\n",
        "\n",
        "if (\n",
        "    salygos['ReferendumoDalyviai'] >= 20000\n",
        "    and salygos['BalsavimoProcentasUž'] >= 60\n",
        "    and salygos['BalsavimoProcentasPrieš'] <= 40\n",
        "    and salygos['SprendimoPatvirtinimoProcentas'] >= 50\n",
        "    and salygos['PrivalomasDalyvauti']\n",
        "    and salygos['ReferendumoRūšis'] == 'Privalomas'\n",
        "):\n",
        "    print(\"Privalomajame referendume buvo sėkmingai pritarta referendumui pateikto sprendimo priėmimui.\")\n",
        "else:\n",
        "    print(\"Privalomajame referendume nepavyko sėkmingai pritarti referendumui pateikto sprendimo priėmimui.\")\n"
      ],
      "metadata": {
        "id": "rJswxUqu74zo"
      },
      "execution_count": null,
      "outputs": []
    },
    {
      "cell_type": "markdown",
      "source": [
        "privalomajame referendum e būtų sėkmingai pritarta dėl\n",
        "Konstitucijos XIV skirsnio nuostatų pakeitimo;"
      ],
      "metadata": {
        "id": "oxHy0awcxYS1"
      }
    },
    {
      "cell_type": "code",
      "source": [
        "referendumo_dalyviai = int(input(\"Įveskite referendumo dalyvių skaičių: \"))\n",
        "balsavimo_procentas_uz = float(input(\"Įveskite balsavimo procentą už: \"))\n",
        "sprendimo_patvirtinimo_procentas = float(input(\"Įveskite sprendimo patvirtinimo procentą: \"))\n",
        "privalomas_dalyvauti = input(\"Ar dalyvauti referendumas yra privalomas (True/False): \").lower() == 'true'\n",
        "referendumo_rusis = input(\"Įveskite referendumo rūšį: \")\n",
        "referendumo_klausimas = input(\"Įveskite referendumo klausimą: \")\n",
        "\n",
        "salygos = {\n",
        "    'ReferendumoDalyviai': referendumo_dalyviai,\n",
        "    'BalsavimoProcentasUž': balsavimo_procentas_uz,\n",
        "    'SprendimoPatvirtinimoProcentas': sprendimo_patvirtinimo_procentas,\n",
        "    'PrivalomasDalyvauti': privalomas_dalyvauti,\n",
        "    'ReferendumoRūšis': referendumo_rusis,\n",
        "    'ReferendumoKlausimas': referendumo_klausimas\n",
        "}\n",
        "\n",
        "if (\n",
        "    salygos['ReferendumoDalyviai'] >= 3000000\n",
        "    and salygos['BalsavimoProcentasUž'] >= 75\n",
        "    and salygos['SprendimoPatvirtinimoProcentas'] >= 67\n",
        "    and salygos['PrivalomasDalyvauti']\n",
        "    and salygos['ReferendumoRūšis'] == 'Privalomas'\n",
        "    and 'Konstitucijos XIV skirsnių' in salygos['ReferendumoKlausimas']\n",
        "):\n",
        "    print(\"Privalomajame referendume buvo sėkmingai pritarta dėl Konstitucijos XIV skirsnio nuostatų pakeitimo.\")\n",
        "else:\n",
        "    print(\"Privalomajame referendume nepavyko sėkmingai pritarti dėl Konstitucijos XIV skirsnio nuostatų pakeitimo.\")\n"
      ],
      "metadata": {
        "id": "cZfhxPY29Amc"
      },
      "execution_count": null,
      "outputs": []
    },
    {
      "cell_type": "markdown",
      "source": [
        "privalomajame referendum e būtų sėkmingai pritarta dėl\n",
        "Konstitucijos 1 straipsnio nuostatos pakeitimo."
      ],
      "metadata": {
        "id": "HEt86Ffp9cJj"
      }
    },
    {
      "cell_type": "code",
      "source": [
        "referendumo_dalyviai = int(input(\"Įveskite referendumo dalyvių skaičių: \"))\n",
        "balsavimo_procentas_uz = float(input(\"Įveskite balsavimo procentą už: \"))\n",
        "sprendimo_patvirtinimo_procentas = float(input(\"Įveskite sprendimo patvirtinimo procentą: \"))\n",
        "privalomas_dalyvauti = input(\"Ar dalyvauti referendumas yra privalomas (True/False): \").lower() == 'true'\n",
        "referendumo_rusis = input(\"Įveskite referendumo rūšį: \")\n",
        "referendumo_klausimas = input(\"Įveskite referendumo klausimą: \")\n",
        "\n",
        "salygos = {\n",
        "    'ReferendumoDalyviai': referendumo_dalyviai,\n",
        "    'BalsavimoProcentasUž': balsavimo_procentas_uz,\n",
        "    'SprendimoPatvirtinimoProcentas': sprendimo_patvirtinimo_procentas,\n",
        "    'PrivalomasDalyvauti': privalomas_dalyvauti,\n",
        "    'ReferendumoRūšis': referendumo_rusis,\n",
        "    'ReferendumoKlausimas': referendumo_klausimas\n",
        "}\n",
        "\n",
        "if (\n",
        "    salygos['ReferendumoDalyviai'] >= 3000000\n",
        "    and salygos['BalsavimoProcentasUž'] >= 75\n",
        "    and salygos['SprendimoPatvirtinimoProcentas'] >= 67\n",
        "    and salygos['PrivalomasDalyvauti']\n",
        "    and salygos['ReferendumoRūšis'] == 'Privalomas'\n",
        "    and 'Konstitucijos XIV skirsnių' in salygos['ReferendumoKlausimas']\n",
        "):\n",
        "    print(\"Privalomajame referendume buvo sėkmingai pritarta dėl Konstitucijos XIV skirsnio nuostatų pakeitimo.\")\n",
        "else:\n",
        "    print(\"Privalomajame referendume nepavyko sėkmingai pritarti dėl Konstitucijos XIV skirsnio nuostatų pakeitimo.\")\n"
      ],
      "metadata": {
        "id": "022F3zSi9ZSf"
      },
      "execution_count": null,
      "outputs": []
    }
  ]
}